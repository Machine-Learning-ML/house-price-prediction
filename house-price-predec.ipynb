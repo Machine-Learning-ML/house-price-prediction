{
 "cells": [
  {
   "cell_type": "code",
   "execution_count": 64,
   "metadata": {},
   "outputs": [
    {
     "name": "stdout",
     "output_type": "stream",
     "text": [
      "Predicted Value for the third test item: [1.55368294]\n",
      "Actual Value for the third test item: 0    1.889\n",
      "Name: 6196, dtype: float64\n",
      "R-squared value: 0.5964025739157099\n"
     ]
    }
   ],
   "source": [
    "import numpy as np\n",
    "import pandas as pd\n",
    "from sklearn import linear_model\n",
    "from sklearn.datasets import fetch_california_housing\n",
    "from sklearn.model_selection import train_test_split  # Import train_test_split\n",
    "from sklearn.metrics import r2_score  # Import R-squared calculation\n",
    "\n",
    "\n",
    "california = fetch_california_housing()\n",
    "\n",
    "X = pd.DataFrame(california.data, columns=california.feature_names)\n",
    "\n",
    "Y = pd.DataFrame(california.target)\n",
    "\n",
    "reg = linear_model.LinearRegression()\n",
    "\n",
    "# Split the data into train and test sets\n",
    "X_train, X_test, y_train, y_test = train_test_split(X, Y, test_size=0.2, random_state=4)\n",
    "\n",
    "# Fit the model on training data\n",
    "reg.fit(X_train, y_train)\n",
    "\n",
    "# Making predictions on the test set\n",
    "y_pred = reg.predict(X_test)\n",
    "\n",
    "# Calculate R-squared\n",
    "r_squared = r2_score(y_test, y_pred)\n",
    "\n",
    "predicted_value = y_pred[10]\n",
    "\n",
    "# Print the predicted value\n",
    "print(\"Predicted Value for the third test item:\", predicted_value)\n",
    "\n",
    "# To compare, print the actual value from the test set\n",
    "actual_value = y_test.iloc[10] \n",
    "\n",
    "print(\"Actual Value for the third test item:\", actual_value)\n",
    "\n",
    "print(\"R-squared value:\", r_squared)\n",
    "\n",
    "\n",
    "\n"
   ]
  },
  {
   "cell_type": "code",
   "execution_count": null,
   "metadata": {},
   "outputs": [],
   "source": []
  }
 ],
 "metadata": {
  "kernelspec": {
   "display_name": "base",
   "language": "python",
   "name": "python3"
  },
  "language_info": {
   "codemirror_mode": {
    "name": "ipython",
    "version": 3
   },
   "file_extension": ".py",
   "mimetype": "text/x-python",
   "name": "python",
   "nbconvert_exporter": "python",
   "pygments_lexer": "ipython3",
   "version": "3.12.7"
  }
 },
 "nbformat": 4,
 "nbformat_minor": 2
}
